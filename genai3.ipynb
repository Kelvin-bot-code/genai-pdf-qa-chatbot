{
 "cells": [
  {
   "cell_type": "code",
   "execution_count": null,
   "id": "0a96362e",
   "metadata": {
    "height": 982
   },
   "outputs": [
    {
     "name": "stdout",
     "output_type": "stream",
     "text": [
      "Welcome to the PDF Question-Answering Chatbot!\n",
      "Type 'exit' to quit.\n",
      "You: What is the document about?\n",
      "Chatbot: The document seems to be about a computer science class, specifically discussing the prerequisites for the class and mentioning topics like big-O notation, data structures, and programming skills.\n"
     ]
    }
   ],
   "source": [
    "import os\n",
    "from dotenv import load_dotenv, find_dotenv\n",
    "from langchain.embeddings.openai import OpenAIEmbeddings\n",
    "from langchain.text_splitter import RecursiveCharacterTextSplitter\n",
    "from langchain.vectorstores import DocArrayInMemorySearch\n",
    "from langchain.document_loaders import PyPDFLoader\n",
    "from langchain.memory import ConversationBufferMemory\n",
    "from langchain.chat_models import ChatOpenAI\n",
    "from langchain.chains import ConversationalRetrievalChain\n",
    "\n",
    "# Load environment variables\n",
    "_ = load_dotenv(find_dotenv())\n",
    "openai_api_key = os.getenv('OPENAI_API_KEY')\n",
    "if not openai_api_key:\n",
    "    raise ValueError(\"OPENAI_API_KEY not found in environment variables.\")\n",
    "    \n",
    "#loading data\n",
    "def load_pdf_to_retriever(file_path):\n",
    "    \"\"\"Loads a PDF file and prepares a retriever using embeddings.\"\"\"\n",
    "    loader = PyPDFLoader(file_path)\n",
    "    documents = loader.load()\n",
    "\n",
    "    text_splitter = RecursiveCharacterTextSplitter(chunk_size=1000, chunk_overlap=150)\n",
    "    docs = text_splitter.split_documents(documents)\n",
    "\n",
    "    embeddings = OpenAIEmbeddings(openai_api_key=openai_api_key)\n",
    "    vector_db = DocArrayInMemorySearch.from_documents(docs, embeddings)\n",
    "\n",
    "    return vector_db.as_retriever(search_type=\"similarity\", search_kwargs={\"k\": 3})\n",
    "\n",
    "#building conversation\n",
    "def build_conversational_chain(retriever):\n",
    "    \"\"\"Creates a conversational retrieval chain with memory.\"\"\"\n",
    "    memory = ConversationBufferMemory(memory_key=\"chat_history\", return_messages=True)\n",
    "    llm = ChatOpenAI(model_name=\"gpt-3.5-turbo\", temperature=0)\n",
    "    return ConversationalRetrievalChain.from_llm(llm=llm, retriever=retriever, memory=memory)\n",
    "\n",
    "#starting chat\n",
    "def start_chat(chatbot):\n",
    "    \"\"\"Starts a command-line chatbot interface.\"\"\"\n",
    "    print(\"Welcome to the PDF Question-Answering Chatbot!\")\n",
    "    print(\"Type 'exit' to quit.\")\n",
    "    while True:\n",
    "        user_input = input(\"You: \")\n",
    "        if user_input.strip().lower() == 'exit':\n",
    "            print(\"Chatbot: Thanks for chatting! Goodbye!\")\n",
    "            break\n",
    "        response = chatbot({\"question\": user_input})\n",
    "        print(\"Chatbot:\", response.get(\"answer\", \"Sorry, I couldn't process that.\"))\n",
    "\n",
    "#function call        \n",
    "if __name__ == \"__main__\":\n",
    "    pdf_file_path = \"docs/cs229_lectures/MachineLearning-Lecture01.pdf\"  # Update path as needed\n",
    "    retriever = load_pdf_to_retriever(pdf_file_path)\n",
    "    chatbot = build_conversational_chain(retriever)\n",
    "    start_chat(chatbot)\n"
   ]
  },
  {
   "cell_type": "code",
   "execution_count": null,
   "id": "48fc0c6f",
   "metadata": {
    "height": 30
   },
   "outputs": [],
   "source": []
  }
 ],
 "metadata": {
  "kernelspec": {
   "display_name": "Python 3 (ipykernel)",
   "language": "python",
   "name": "python3"
  },
  "language_info": {
   "codemirror_mode": {
    "name": "ipython",
    "version": 3
   },
   "file_extension": ".py",
   "mimetype": "text/x-python",
   "name": "python",
   "nbconvert_exporter": "python",
   "pygments_lexer": "ipython3",
   "version": "3.9.19"
  }
 },
 "nbformat": 4,
 "nbformat_minor": 5
}
